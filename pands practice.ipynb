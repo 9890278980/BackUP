{
 "cells": [
  {
   "cell_type": "code",
   "execution_count": 1,
   "id": "03315d3c",
   "metadata": {},
   "outputs": [],
   "source": [
    "import pandas as pd"
   ]
  },
  {
   "cell_type": "code",
   "execution_count": 2,
   "id": "7618d810",
   "metadata": {},
   "outputs": [
    {
     "data": {
      "text/plain": [
       "'2.0.3'"
      ]
     },
     "execution_count": 2,
     "metadata": {},
     "output_type": "execute_result"
    }
   ],
   "source": [
    "pd.__version__"
   ]
  },
  {
   "cell_type": "code",
   "execution_count": 3,
   "id": "6da7b02c",
   "metadata": {},
   "outputs": [],
   "source": [
    "#pip list"
   ]
  },
  {
   "cell_type": "code",
   "execution_count": 4,
   "id": "ac4991ba",
   "metadata": {},
   "outputs": [],
   "source": [
    "product_list = [11,12,13,14]"
   ]
  },
  {
   "cell_type": "code",
   "execution_count": 7,
   "id": "2b80e9c7",
   "metadata": {},
   "outputs": [],
   "source": [
    "product_series=pd.Series(product_list)"
   ]
  },
  {
   "cell_type": "code",
   "execution_count": 9,
   "id": "151b110e",
   "metadata": {},
   "outputs": [
    {
     "data": {
      "text/plain": [
       "0    11\n",
       "1    12\n",
       "2    13\n",
       "3    14\n",
       "dtype: int64"
      ]
     },
     "execution_count": 9,
     "metadata": {},
     "output_type": "execute_result"
    }
   ],
   "source": [
    "product_series"
   ]
  },
  {
   "cell_type": "code",
   "execution_count": null,
   "id": "97898c8e",
   "metadata": {},
   "outputs": [],
   "source": []
  }
 ],
 "metadata": {
  "kernelspec": {
   "display_name": "Python 3 (ipykernel)",
   "language": "python",
   "name": "python3"
  },
  "language_info": {
   "codemirror_mode": {
    "name": "ipython",
    "version": 3
   },
   "file_extension": ".py",
   "mimetype": "text/x-python",
   "name": "python",
   "nbconvert_exporter": "python",
   "pygments_lexer": "ipython3",
   "version": "3.10.9"
  }
 },
 "nbformat": 4,
 "nbformat_minor": 5
}
